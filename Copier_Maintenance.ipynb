{
 "cells": [
  {
   "cell_type": "markdown",
   "id": "46a6f8d7-ae2a-4ca5-a570-623656ea3557",
   "metadata": {},
   "source": [
    "# Copier Maintenance"
   ]
  },
  {
   "cell_type": "markdown",
   "id": "d46e9df7-40ad-4bb9-8249-e3db2ceeaaab",
   "metadata": {},
   "source": [
    "In this problem, an office equipment company sells a specific copier and also provides maintenance services on it.  The data provided were collected from 45 calls for maintenance from recent users.  We have the number of copiers serviced as the explanatory variable $X$ and the number of minutes spent by the technician to address the issues in the copiers as the response $Y$.  We shall first import the data from the text file.  In the text file, the response is in the first column, followed by the predictor."
   ]
  },
  {
   "cell_type": "code",
   "execution_count": 232,
   "id": "a04f8e56-af1e-409f-901a-3c3eb8b77e60",
   "metadata": {},
   "outputs": [
    {
     "data": {
      "text/html": [
       "<div>\n",
       "<style scoped>\n",
       "    .dataframe tbody tr th:only-of-type {\n",
       "        vertical-align: middle;\n",
       "    }\n",
       "\n",
       "    .dataframe tbody tr th {\n",
       "        vertical-align: top;\n",
       "    }\n",
       "\n",
       "    .dataframe thead th {\n",
       "        text-align: right;\n",
       "    }\n",
       "</style>\n",
       "<table border=\"1\" class=\"dataframe\">\n",
       "  <thead>\n",
       "    <tr style=\"text-align: right;\">\n",
       "      <th></th>\n",
       "      <th>time</th>\n",
       "      <th>n_copiers</th>\n",
       "    </tr>\n",
       "  </thead>\n",
       "  <tbody>\n",
       "    <tr>\n",
       "      <th>0</th>\n",
       "      <td>20</td>\n",
       "      <td>2</td>\n",
       "    </tr>\n",
       "    <tr>\n",
       "      <th>1</th>\n",
       "      <td>60</td>\n",
       "      <td>4</td>\n",
       "    </tr>\n",
       "    <tr>\n",
       "      <th>2</th>\n",
       "      <td>46</td>\n",
       "      <td>3</td>\n",
       "    </tr>\n",
       "    <tr>\n",
       "      <th>3</th>\n",
       "      <td>41</td>\n",
       "      <td>2</td>\n",
       "    </tr>\n",
       "    <tr>\n",
       "      <th>4</th>\n",
       "      <td>12</td>\n",
       "      <td>1</td>\n",
       "    </tr>\n",
       "  </tbody>\n",
       "</table>\n",
       "</div>"
      ],
      "text/plain": [
       "   time  n_copiers\n",
       "0    20          2\n",
       "1    60          4\n",
       "2    46          3\n",
       "3    41          2\n",
       "4    12          1"
      ]
     },
     "execution_count": 232,
     "metadata": {},
     "output_type": "execute_result"
    }
   ],
   "source": [
    "import pandas as pd\n",
    "\n",
    "copiers = pd.read_csv(\"CH01PR20.txt\", header=None, delimiter=\"    \", engine='python')\n",
    "copiers.columns = [\"time\", \"n_copiers\"]\n",
    "copiers.head()"
   ]
  },
  {
   "cell_type": "markdown",
   "id": "940a1a6a-2bd2-4327-8edf-445f5546e866",
   "metadata": {},
   "source": [
    "### Regression model\n",
    "\n",
    "To obtain the estimated regression model that fits the data, we'll use SciKit-Learn's \"LinearRegression\" class."
   ]
  },
  {
   "cell_type": "code",
   "execution_count": 233,
   "id": "7aefcde0-946b-453e-941d-13eddb847a19",
   "metadata": {
    "tags": []
   },
   "outputs": [],
   "source": [
    "from sklearn.linear_model import LinearRegression\n",
    "\n",
    "X = copiers[[\"n_copiers\"]]\n",
    "y = copiers[\"time\"]\n",
    "\n",
    "copier_reg = LinearRegression().fit(X, y)"
   ]
  },
  {
   "cell_type": "markdown",
   "id": "20711b45-6c1e-4a1d-8d27-95efbb0739bc",
   "metadata": {
    "tags": []
   },
   "source": [
    "To access the regression model's coefficients, we use the following:"
   ]
  },
  {
   "cell_type": "code",
   "execution_count": 294,
   "id": "0f04ae9d-cc3f-4d90-a276-6931d92ad419",
   "metadata": {
    "tags": []
   },
   "outputs": [
    {
     "name": "stdout",
     "output_type": "stream",
     "text": [
      "Coefficient:  15.035248041775457\n",
      "Intercept:    -0.5801566579634425\n"
     ]
    }
   ],
   "source": [
    "print(f\"Coefficient:  {copier_reg.coef_[0]}\")  # [0] to get coef out of list\n",
    "print(f\"Intercept:    {copier_reg.intercept_}\")"
   ]
  },
  {
   "cell_type": "markdown",
   "id": "3b6d873a-1bf0-4715-93e3-ad0df00bd60b",
   "metadata": {},
   "source": [
    "Therefore, the estimated regression model for the number of service minutes given the number of copiers is approximately \n",
    "$$\\begin{equation}\n",
    "\\hat{Y} = -0.5802 + 15.0352 X\\quad\\quad (1.1)\n",
    "\\end{equation}$$"
   ]
  },
  {
   "cell_type": "markdown",
   "id": "7829994d-2082-4af8-95de-f5bb7096b9b3",
   "metadata": {},
   "source": [
    "### Plotting the Regression Function"
   ]
  },
  {
   "cell_type": "markdown",
   "id": "e695f615-f0fb-439c-93e3-f5c9540f9d58",
   "metadata": {},
   "source": [
    "Here, we shall superimpose the regression function onto the copier maintenance scatterplot.  We could use Seaborn's 'regplot' here, but the way we demonstrate here verify the coefficients provided by our fitted LinearRegression() object provide a line that fits well."
   ]
  },
  {
   "cell_type": "code",
   "execution_count": 300,
   "id": "bc5ed2f0-675c-4f02-bc20-a0fabd1a41f4",
   "metadata": {
    "tags": []
   },
   "outputs": [
    {
     "data": {
      "image/png": "[encoded data removed]",
      "text/plain": [
       "<Figure size 500x500 with 1 Axes>"
      ]
     },
     "metadata": {},
     "output_type": "display_data"
    }
   ],
   "source": [
    "import matplotlib.pyplot as plt\n",
    "import numpy as np\n",
    "import seaborn as sns\n",
    "\n",
    "b0 = copier_reg.intercept_\n",
    "b1 = copier_reg.coef_[0]\n",
    "\n",
    "lin_x = np.linspace(0, 10, 100)\n",
    "lin_y = b0 + b1*lin_x\n",
    "\n",
    "grid = sns.FacetGrid(data=copiers, height=5)\n",
    "grid = grid.map(plt.scatter, data=copiers, x=\"n_copiers\", y=\"time\", edgecolor='w')\n",
    "plt.plot(lin_x, lin_y, color='orange')\n",
    "plt.title(\"Regression for Mean Service Time from Number of Copiers\")\n",
    "plt.ylabel(\"Service Time (minutes)\")\n",
    "plt.xlabel(\"Number of Copiers on Job\")\n",
    "plt.text(7, 80, f\"y = {b0:.2f} + {b1:.2f}x\", color='orange')\n",
    "plt.show()"
   ]
  },
  {
   "cell_type": "markdown",
   "id": "82b07b0c-a9fd-4425-bd7f-2f4dd7980eb6",
   "metadata": {},
   "source": [
    "We can see the linear regression plot appears to provide an adequate fit to the data."
   ]
  },
  {
   "cell_type": "markdown",
   "id": "7e0af280-2696-405f-880e-9d06dcdf18d5",
   "metadata": {},
   "source": [
    "### Interpretation of the Coefficients"
   ]
  },
  {
   "cell_type": "markdown",
   "id": "a2af5afa-8f36-417a-81a9-08534dc525d6",
   "metadata": {},
   "source": [
    "In Equation 1.1, we see our linear regression's intercept is $b_0  =-0.5802$.  This means we would expect a mean service time of -0.5802 minutes for a call where 0 copiers are serviced.  This doesn't make since given the circumstances, thus we only use this coefficient as a means of fitting the regression line.  We interpret the coefficient $b_1 = 15.0352$ to mean that the mean number of minutes of service time on a call increases by a little over 15 minutes per additional copier on the call."
   ]
  },
  {
   "cell_type": "markdown",
   "id": "646d0ff2-65ba-4b1b-8b21-6c89f04b2543",
   "metadata": {},
   "source": [
    "### Point Estimate\n",
    "\n",
    "Suppose we want to know how many service minutes we should expect to see on a call concerning 5 copiers.  To find this, we simply calculate the value of the regression at this level of copiers:"
   ]
  },
  {
   "cell_type": "code",
   "execution_count": 317,
   "id": "f101d45a-5f97-4845-b294-c557df2e3957",
   "metadata": {
    "tags": []
   },
   "outputs": [
    {
     "name": "stdout",
     "output_type": "stream",
     "text": [
      "Expected service minutes for 5 copiers: 74.5961 minutes\n"
     ]
    }
   ],
   "source": [
    "def f_reg(x_h):\n",
    "    '''\n",
    "    This function will be used for calculating regression for specific levels\n",
    "    of X.  Simpler than copier_reg.predict() since this can take raw integer\n",
    "    '''\n",
    "    return b0 + b1*x_h\n",
    "\n",
    "print(f\"Expected service minutes for 5 copiers: {f_reg(5):.4f} minutes\")"
   ]
  },
  {
   "cell_type": "markdown",
   "id": "01c6c137-7fc3-4619-a11c-1a21d3c86c2b",
   "metadata": {},
   "source": [
    "Therefore, we should expect $\\hat{Y}_h = -0.5802 + 15.0352\\cdot 5 = 74.5961$ minutes of service time on a call with 5 copiers."
   ]
  },
  {
   "cell_type": "markdown",
   "id": "2d244761-fa41-4316-9cbd-3399842972e4",
   "metadata": {},
   "source": [
    "### Checking Residuals\n",
    "\n",
    "Here, we will calculate the residuals $e_i = Y_i - \\hat{Y}_i$.  We will add columns for $\\hat{Y}_i$ and $e_i$ to our `copiers` dataframe."
   ]
  },
  {
   "cell_type": "code",
   "execution_count": 313,
   "id": "ec7e8fbe-d52c-473a-a1c6-7320f6ebd66e",
   "metadata": {
    "tags": []
   },
   "outputs": [
    {
     "data": {
      "text/html": [
       "<div>\n",
       "<style scoped>\n",
       "    .dataframe tbody tr th:only-of-type {\n",
       "        vertical-align: middle;\n",
       "    }\n",
       "\n",
       "    .dataframe tbody tr th {\n",
       "        vertical-align: top;\n",
       "    }\n",
       "\n",
       "    .dataframe thead th {\n",
       "        text-align: right;\n",
       "    }\n",
       "</style>\n",
       "<table border=\"1\" class=\"dataframe\">\n",
       "  <thead>\n",
       "    <tr style=\"text-align: right;\">\n",
       "      <th></th>\n",
       "      <th>time</th>\n",
       "      <th>n_copiers</th>\n",
       "      <th>y_hat</th>\n",
       "      <th>residual</th>\n",
       "      <th>res_sq</th>\n",
       "      <th>x-x_bar</th>\n",
       "      <th>x-x_bar_sq</th>\n",
       "      <th>y_hat-y_bar</th>\n",
       "      <th>y - y_hat</th>\n",
       "      <th>y - y_bar</th>\n",
       "      <th>res_rank</th>\n",
       "      <th>exp_normal_value</th>\n",
       "      <th>avg_copier_age</th>\n",
       "      <th>serv_exp</th>\n",
       "    </tr>\n",
       "  </thead>\n",
       "  <tbody>\n",
       "    <tr>\n",
       "      <th>0</th>\n",
       "      <td>20</td>\n",
       "      <td>2</td>\n",
       "      <td>29.490339</td>\n",
       "      <td>-9.490339</td>\n",
       "      <td>90.066542</td>\n",
       "      <td>-3.111111</td>\n",
       "      <td>9.679012</td>\n",
       "      <td>-46.776327</td>\n",
       "      <td>-9.490339</td>\n",
       "      <td>-56.266667</td>\n",
       "      <td>7.5</td>\n",
       "      <td>-8.957700</td>\n",
       "      <td>20</td>\n",
       "      <td>4</td>\n",
       "    </tr>\n",
       "    <tr>\n",
       "      <th>1</th>\n",
       "      <td>60</td>\n",
       "      <td>4</td>\n",
       "      <td>59.560836</td>\n",
       "      <td>0.439164</td>\n",
       "      <td>0.192865</td>\n",
       "      <td>-1.111111</td>\n",
       "      <td>1.234568</td>\n",
       "      <td>-16.705831</td>\n",
       "      <td>0.439164</td>\n",
       "      <td>-16.266667</td>\n",
       "      <td>24.0</td>\n",
       "      <td>0.494017</td>\n",
       "      <td>19</td>\n",
       "      <td>5</td>\n",
       "    </tr>\n",
       "    <tr>\n",
       "      <th>2</th>\n",
       "      <td>46</td>\n",
       "      <td>3</td>\n",
       "      <td>44.525587</td>\n",
       "      <td>1.474413</td>\n",
       "      <td>2.173892</td>\n",
       "      <td>-2.111111</td>\n",
       "      <td>4.456790</td>\n",
       "      <td>-31.741079</td>\n",
       "      <td>1.474413</td>\n",
       "      <td>-30.266667</td>\n",
       "      <td>26.0</td>\n",
       "      <td>1.488179</td>\n",
       "      <td>27</td>\n",
       "      <td>4</td>\n",
       "    </tr>\n",
       "    <tr>\n",
       "      <th>3</th>\n",
       "      <td>41</td>\n",
       "      <td>2</td>\n",
       "      <td>29.490339</td>\n",
       "      <td>11.509661</td>\n",
       "      <td>132.472287</td>\n",
       "      <td>-3.111111</td>\n",
       "      <td>9.679012</td>\n",
       "      <td>-46.776327</td>\n",
       "      <td>11.509661</td>\n",
       "      <td>-35.266667</td>\n",
       "      <td>41.0</td>\n",
       "      <td>11.311771</td>\n",
       "      <td>32</td>\n",
       "      <td>1</td>\n",
       "    </tr>\n",
       "    <tr>\n",
       "      <th>4</th>\n",
       "      <td>12</td>\n",
       "      <td>1</td>\n",
       "      <td>14.455091</td>\n",
       "      <td>-2.455091</td>\n",
       "      <td>6.027474</td>\n",
       "      <td>-4.111111</td>\n",
       "      <td>16.901235</td>\n",
       "      <td>-61.811575</td>\n",
       "      <td>-2.455091</td>\n",
       "      <td>-64.266667</td>\n",
       "      <td>18.0</td>\n",
       "      <td>-2.501266</td>\n",
       "      <td>24</td>\n",
       "      <td>4</td>\n",
       "    </tr>\n",
       "  </tbody>\n",
       "</table>\n",
       "</div>"
      ],
      "text/plain": [
       "   time  n_copiers      y_hat   residual      res_sq   x-x_bar  x-x_bar_sq  \\\n",
       "0    20          2  29.490339  -9.490339   90.066542 -3.111111    9.679012   \n",
       "1    60          4  59.560836   0.439164    0.192865 -1.111111    1.234568   \n",
       "2    46          3  44.525587   1.474413    2.173892 -2.111111    4.456790   \n",
       "3    41          2  29.490339  11.509661  132.472287 -3.111111    9.679012   \n",
       "4    12          1  14.455091  -2.455091    6.027474 -4.111111   16.901235   \n",
       "\n",
       "   y_hat-y_bar  y - y_hat  y - y_bar  res_rank  exp_normal_value  \\\n",
       "0   -46.776327  -9.490339 -56.266667       7.5         -8.957700   \n",
       "1   -16.705831   0.439164 -16.266667      24.0          0.494017   \n",
       "2   -31.741079   1.474413 -30.266667      26.0          1.488179   \n",
       "3   -46.776327  11.509661 -35.266667      41.0         11.311771   \n",
       "4   -61.811575  -2.455091 -64.266667      18.0         -2.501266   \n",
       "\n",
       "   avg_copier_age  serv_exp  \n",
       "0              20         4  \n",
       "1              19         5  \n",
       "2              27         4  \n",
       "3              32         1  \n",
       "4              24         4  "
      ]
     },
     "execution_count": 313,
     "metadata": {},
     "output_type": "execute_result"
    }
   ],
   "source": [
    "copiers['y_hat'] = copier_reg.predict(copiers[['n_copiers']])\n",
    "copiers['residual'] = copiers['time'] - copiers['y_hat']\n",
    "copiers['res_sq'] = copiers['residual']**2\n",
    "copiers.head()"
   ]
  },
  {
   "cell_type": "code",
   "execution_count": 308,
   "id": "7cdca124-81cb-4ae7-ab4b-f0ee6f7a2358",
   "metadata": {
    "tags": []
   },
   "outputs": [
    {
     "name": "stdout",
     "output_type": "stream",
     "text": [
      "Sum of residuals: -0.0000000000\n"
     ]
    }
   ],
   "source": [
    "print(f\"Sum of residuals: {sum(copiers['residual']):.6f}\")"
   ]
  },
  {
   "cell_type": "markdown",
   "id": "203d545f-9266-42e8-a2c5-f469602be2f5",
   "metadata": {},
   "source": [
    "Ignoring roundoff error, we see that the relation $\\sum_i e_i = 0$ holds.\n",
    "\n",
    "We can verify another property of the regression:"
   ]
  },
  {
   "cell_type": "code",
   "execution_count": 310,
   "id": "ede3a0eb-3e1c-49bc-9226-01efd225a5b3",
   "metadata": {
    "tags": []
   },
   "outputs": [
    {
     "name": "stdout",
     "output_type": "stream",
     "text": [
      "Sum of response values:  3432.0000000000\n",
      "Sum of predicted vals :  3432.0000000000\n"
     ]
    }
   ],
   "source": [
    "print(f\"Sum of response values:  {sum(copiers['time']):.10f}\")\n",
    "print(f\"Sum of predicted vals :  {sum(copiers['y_hat']):.10f}\")"
   ]
  },
  {
   "cell_type": "markdown",
   "id": "0e06e82f-68f1-4fe0-a9b6-be6ced7c8794",
   "metadata": {
    "tags": []
   },
   "source": [
    "This shows us that $\\sum_i Y_i = \\sum_i \\hat{Y}_i$, ignoring rounding error."
   ]
  },
  {
   "cell_type": "markdown",
   "id": "c9aa5775-448d-4e74-8b5d-1d2908725e02",
   "metadata": {},
   "source": [
    "### Estimation of Variance\n",
    "\n",
    "With the column for $e_i^2$, we can obtain an estimation for the variance and standard deviation for the service times."
   ]
  },
  {
   "cell_type": "code",
   "execution_count": 318,
   "id": "04cb1f09-83dc-4cd4-8175-c5bd75a6a4f6",
   "metadata": {
    "tags": []
   },
   "outputs": [
    {
     "name": "stdout",
     "output_type": "stream",
     "text": [
      "Mean Square Error (MSE) for copier data:  79.45062845345802\n",
      "Estimate for standard deviation        :  8.913508201233565\n"
     ]
    }
   ],
   "source": [
    "copier_sse = sum(copiers['res_sq'])  # SSE\n",
    "n = copiers.shape[0]                 # number of instances in dataframe\n",
    "sse_df = n - 2                       # SSE degrees of freedom\n",
    "copier_mse = copier_sse / sse_df     # MSE for data\n",
    "print(f\"Mean Square Error (MSE) for copier data:  {copier_mse}\")\n",
    "print(f\"Estimate for standard deviation        :  {copier_mse**(1/2)}\")"
   ]
  },
  {
   "cell_type": "markdown",
   "id": "0550b6e6-839f-413c-9e5e-e98a1774a3d3",
   "metadata": {},
   "source": [
    "These results give us estimates of the variance and standard deviation we're looking for: $$s^2 = MSE = \\frac{\\sum e_i^2}{n-2} = 3416.377/43 = 79.4506$$\n",
    "$$s = \\sqrt{MSE} = 8.914$$"
   ]
  },
  {
   "cell_type": "markdown",
   "id": "b95fe661-641b-452a-a7cc-2afa95658edc",
   "metadata": {},
   "source": [
    "### Confidence Interval for $\\beta_1$\n",
    "\n",
    "We found earlier that an estimate for $\\beta_1$ is $b_1 = 15.0352$.  Suppose we want a 90% confidence interval for $\\beta_1$.  We can calculate this interval with the following:"
   ]
  },
  {
   "cell_type": "code",
   "execution_count": 241,
   "id": "d9e01263-fde4-4bb3-9159-1f36ec7ecbc6",
   "metadata": {
    "tags": []
   },
   "outputs": [
    {
     "name": "stdout",
     "output_type": "stream",
     "text": [
      "0.8121037611460029\n"
     ]
    }
   ],
   "source": [
    "from scipy.stats import t\n",
    "\n",
    "copiers['x-x_bar'] = copiers['n_copiers']-np.mean(copiers['n_copiers'])\n",
    "copiers['x-x_bar_sq'] = copiers['x-x_bar']**2\n",
    "\n",
    "alpha = 0.1\n",
    "quantile = t.ppf(1-alpha/2, 43)\n",
    "\n",
    "s2_b1 = copier_mse / sum(copiers['x-x_bar_sq'])\n",
    "s_b1 = s2_b1**(1/2)\n",
    "\n",
    "margin_error = quantile * s_b1\n",
    "print(margin_error)"
   ]
  },
  {
   "cell_type": "markdown",
   "id": "072acf22-e016-4989-85c4-b6c95923c7b1",
   "metadata": {},
   "source": [
    "This give us the interval"
   ]
  },
  {
   "cell_type": "code",
   "execution_count": 320,
   "id": "e501508d-b20e-4657-b0db-4564963ed368",
   "metadata": {
    "tags": []
   },
   "outputs": [
    {
     "name": "stdout",
     "output_type": "stream",
     "text": [
      "90% Confidence Interval for B1:  [14.223144280629453, 15.84735180292146]\n"
     ]
    }
   ],
   "source": [
    "lower_limit = b1 - margin_error\n",
    "upper_limit = b1 + margin_error\n",
    "print(f\"90% Confidence Interval for B1:  [{lower_limit}, {upper_limit}]\")"
   ]
  },
  {
   "cell_type": "markdown",
   "id": "a285b281-fee5-4e75-8e23-b71661fdbd93",
   "metadata": {},
   "source": [
    "Therefore, we are 90% confident that the mean service time increases between 14.2231 and 15.8474 minutes per copier."
   ]
  },
  {
   "cell_type": "markdown",
   "id": "2cd8d42a-c529-4199-9c72-c966fcf17e51",
   "metadata": {},
   "source": [
    "### Test for Linear Relationship\n",
    "\n",
    "We can perform a test to test the hypothesis $$\\begin{align}\n",
    "H_0:&\\quad \\beta_1 = 0\\\\\n",
    "H_A:&\\quad \\beta_1 \\neq 0 .\n",
    "\\end{align}$$\n",
    "We'll use the knowledge that $$\\frac{\\hat{\\beta}_1 - \\beta_1}{s(\\beta_1)} \\sim t_{(n-2)}$$"
   ]
  },
  {
   "cell_type": "code",
   "execution_count": 243,
   "id": "dd65788a-46b5-43fe-b617-57050381630c",
   "metadata": {
    "tags": []
   },
   "outputs": [
    {
     "name": "stdout",
     "output_type": "stream",
     "text": [
      "[31.12325812]\n"
     ]
    }
   ],
   "source": [
    "t_star = (b_1 - 0) / s_b1\n",
    "print(t_star)"
   ]
  },
  {
   "cell_type": "code",
   "execution_count": 244,
   "id": "b9cb2541-361a-45f5-beef-b13c85bcc9c4",
   "metadata": {
    "tags": []
   },
   "outputs": [
    {
     "name": "stdout",
     "output_type": "stream",
     "text": [
      "-1.6810707018477637\n",
      "1.681070701847763\n"
     ]
    }
   ],
   "source": [
    "print(t.ppf(0.1/2, 43))\n",
    "print(t.ppf(1-0.1/2, 43)) # critical value since t_star > 0"
   ]
  },
  {
   "cell_type": "code",
   "execution_count": 245,
   "id": "c0c4739c-95c5-4165-a796-02db935d8940",
   "metadata": {
    "tags": []
   },
   "outputs": [
    {
     "name": "stdout",
     "output_type": "stream",
     "text": [
      "[0.]\n"
     ]
    }
   ],
   "source": [
    "print(1 - t.cdf(t_star, 43)) # p-value"
   ]
  },
  {
   "cell_type": "markdown",
   "id": "3d43a94c-d35c-4ebd-bdf8-447c6e71b615",
   "metadata": {},
   "source": [
    "From above, we have a test statistic of $t^* = 31.123$ and critical value of 1.6811.  Since $|t^*| > 1.6811$, we reject the null hypothesis and conclude there is a linear relationship between the number of copiers on a service call and the number of minutes spent servicing the call.  Our $p$-value is quite small, which also suggests to reject our null hypothesis.  Our previous confidence interval appears to agree with our hypothesis test since $\\beta_1 = 0$ does not lie in the confidence interval.\n",
    "\n",
    "Suppose the manufacturer suggests that the number of minutes spent servicing a call shouldn't exceed 14 minutes per additional copier.  We can then set up the hypotheses $$\\begin{align}\n",
    "H_0:&\\quad \\beta_1 \\leq 14\\\\\n",
    "H_A:&\\quad \\beta_1 > 14.\n",
    "\\end{align}$$\n",
    "We can test that too:"
   ]
  },
  {
   "cell_type": "code",
   "execution_count": 246,
   "id": "691f0491-b1c8-4774-b574-d0cd63cec5a1",
   "metadata": {
    "tags": []
   },
   "outputs": [
    {
     "name": "stdout",
     "output_type": "stream",
     "text": [
      "[2.14298374]\n"
     ]
    }
   ],
   "source": [
    "t_star_2 = (b_1 - 14) / s_b1\n",
    "print(t_star_2)"
   ]
  },
  {
   "cell_type": "code",
   "execution_count": 247,
   "id": "a06ab4c3-52c6-4849-a501-6b57bd3e74f6",
   "metadata": {
    "tags": []
   },
   "outputs": [
    {
     "name": "stdout",
     "output_type": "stream",
     "text": [
      "1.681070701847763\n",
      "[0.01890766]\n"
     ]
    }
   ],
   "source": [
    "print(t.ppf(1-0.05, 43))\n",
    "print(1 - t.cdf(t_star_2, 43))"
   ]
  },
  {
   "cell_type": "markdown",
   "id": "8c529e7b-7005-40ee-b787-c42c8a004143",
   "metadata": {},
   "source": [
    "Since $t^* = 2.1430$ is greater than our critical value at the $\\alpha = 0.05$ significance level, we reject our null hypothesis and conclude the number of minutes spent servicing a call should increase over 14 minutes per copier.  The $p$-value of 0.0189 also suggests this at our significance level."
   ]
  },
  {
   "cell_type": "markdown",
   "id": "50dfeda3-347a-4dc8-9c1d-eae9c9309de8",
   "metadata": {},
   "source": [
    "### Confidence/Prediction Intervals for Specific Level $X_h$"
   ]
  },
  {
   "cell_type": "markdown",
   "id": "5ad7beee-51b6-4811-a9be-9b8bafc5718c",
   "metadata": {},
   "source": [
    "Here, we will calculate 90% confidence and prediction intervals for the mean number of minutes for a call concerning a given number of copiers.  The  $1-\\alpha$ confidence interval can be calculated with $$\\hat{Y}_h \\pm t_{(1-\\alpha/2;\\, n-2)} s(\\hat{Y}_h)$$ where  $$s^2(\\hat{Y}_h) = MSE \\left[ \\frac{1}{n} + \\frac{(X_h-\\bar{X})^2}{\\sum (X_i - \\bar{X})^2}\\right]$$  Below, we define the function to calculate $s^2(\\hat{Y}_h)$:"
   ]
  },
  {
   "cell_type": "code",
   "execution_count": 248,
   "id": "3791206a-2ed0-4844-ac1d-61130c9d8bd6",
   "metadata": {
    "tags": []
   },
   "outputs": [],
   "source": [
    "def sample_variance_Y_h(x_h):\n",
    "    #  This function will allow us to calculate the sample variance of a predicted service time for a given number of copiers\n",
    "    return copier_mse * (1/45 + ((x_h - np.mean(copiers['n_copiers']))**2)/(sum(copiers['x-x_bar_sq'])))"
   ]
  },
  {
   "cell_type": "markdown",
   "id": "c0d810bd-59c5-49f0-aab8-5501a7bd4c46",
   "metadata": {},
   "source": [
    "The $1-\\alpha$ prediction interval is similar to the confidence interval with some changes: $$\\hat{Y}_h \\pm t_{(1-\\alpha /2;\\, n-2)}s(pred)$$ where we find the appropriate value from a $t$-distribution and $$s^2(pred) = MSE + s^2(\\hat{Y}_h)$$ We now define the function to calculate $s^2(pred)$:"
   ]
  },
  {
   "cell_type": "code",
   "execution_count": 249,
   "id": "1cee5c7d-000d-4efe-8bab-17bb36a7fe54",
   "metadata": {
    "tags": []
   },
   "outputs": [],
   "source": [
    "def sample_variance_pred(x_h):\n",
    "    return copier_mse + sample_variance_Y_h(x_h)"
   ]
  },
  {
   "cell_type": "markdown",
   "id": "f83cca91-49bc-47fc-9c14-6fadfaf97d24",
   "metadata": {},
   "source": [
    "Now we'll compare the confidence and prediction intervals for $X_h = 6$.  Both will assume risk of $\\alpha = 0.1$."
   ]
  },
  {
   "cell_type": "code",
   "execution_count": 250,
   "id": "c94fc41a-572b-4bdf-8ea8-096d88b06a21",
   "metadata": {
    "tags": []
   },
   "outputs": [
    {
     "name": "stdout",
     "output_type": "stream",
     "text": [
      "Y_hat confidence interval for X_h = 6:  [[87.28386626], [91.97879693]]\n",
      "CI for expected service time / copier:  [[14.54731104], [15.32979949]]\n",
      "Y_hat prediction interval for X_h = 6:  [[74.46432904], [104.79833415]]\n"
     ]
    }
   ],
   "source": [
    "lower_ci =  b_0 + b_1*6 - t.ppf(1-0.1/2, 43) * sample_variance_Y_h(6)**(1/2)\n",
    "upper_ci =  b_0 + b_1*6 + t.ppf(1-0.1/2, 43) * sample_variance_Y_h(6)**(1/2)\n",
    "\n",
    "lower_pi = b_0 + b_1*6 - t.ppf(1-0.1/2, 43) * sample_variance_pred(6)**(1/2)\n",
    "upper_pi = b_0 + b_1*6 + t.ppf(1-0.1/2, 43) * sample_variance_pred(6)**(1/2)\n",
    "\n",
    "lower_cmi = lower_ci/6\n",
    "upper_cmi = upper_ci/6\n",
    "\n",
    "print(f\"Y_hat confidence interval for X_h = 6:  [{lower_ci}, {upper_ci}]\")\n",
    "print(f\"CI for expected service time / copier:  [{lower_cmi}, {upper_cmi}]\")\n",
    "print(f\"Y_hat prediction interval for X_h = 6:  [{lower_pi}, {upper_pi}]\")"
   ]
  },
  {
   "cell_type": "markdown",
   "id": "eec0b74f-5bb5-4164-82e3-2eb29e1af257",
   "metadata": {},
   "source": [
    "Therefore, we are 90% confident that the mean service time for a call concerning 6 copiers is between 87.2839 and 91.9788 minutes.  We estimate the service time per copier on such a call will be between 14.5473 and 15.3298 minutes.  We predict with 90% confidence that the next job servicing 6 copiers will take somewhere between 74.4643 and 104.7983 minutes.  The prediction interval is wider due to the added uncertainty in predicting a specific call's service time rather than a mean.  Mathematically, this wider interval comes from the added MSE term in the prediction variance."
   ]
  },
  {
   "cell_type": "markdown",
   "id": "0def21e0-fed9-4e76-9c4a-8a6294e46061",
   "metadata": {
    "tags": []
   },
   "source": [
    "### Confidence and Prediction Bands"
   ]
  },
  {
   "cell_type": "markdown",
   "id": "0b7e2369-90a0-44a7-87ca-d06d72b21112",
   "metadata": {},
   "source": [
    "We shall implement a 90% confidence band on the regression line plotted earlier, notably the Working-Hotelling confidence band.  The limits of a Working-Hotelling $1-\\alpha$ band are $$\\hat{Y}_h \\pm Ws(\\hat{Y}_h)$$ where $$W^2 = 2F_{(1-\\alpha;\\, 2,\\, n-2)}$$"
   ]
  },
  {
   "cell_type": "markdown",
   "id": "54c05a5f-0f24-446b-968b-f14c22526449",
   "metadata": {},
   "source": [
    "We now use the above function to manually plot the Working-Hotelling 90% confidence bands"
   ]
  },
  {
   "cell_type": "code",
   "execution_count": 251,
   "id": "3e2a79df-631b-4e55-96f8-227831197692",
   "metadata": {
    "tags": []
   },
   "outputs": [
    {
     "data": {
      "image/png": "[encoded data removed]",
      "text/plain": [
       "<Figure size 500x500 with 1 Axes>"
      ]
     },
     "metadata": {},
     "output_type": "display_data"
    }
   ],
   "source": [
    "from scipy.stats import f\n",
    "\n",
    "w = (2 * f.ppf(1 - 0.1, 2, 43))**(1/2)\n",
    "\n",
    "ci_x = np.linspace(0, 10, 100)\n",
    "ci_y = b_0 + b_1*ci_x\n",
    "upper_ci_y = ci_y + w * sample_variance_Y_h(ci_x)**(1/2)\n",
    "lower_ci_y = ci_y - w * sample_variance_Y_h(ci_x)**(1/2)\n",
    "#print(upper_ci_y)\n",
    "\n",
    "grid_ci = sns.FacetGrid(data=copiers, height=5, ylim=(0,170))\n",
    "grid_ci = grid_ci.map(plt.scatter, data=copiers, x=\"n_copiers\", y=\"time\", edgecolor='w')\n",
    "plt.plot(lin_x, lin_y, color='orange')\n",
    "plt.plot(ci_x, upper_ci_y, color='green')\n",
    "plt.plot(ci_x, lower_ci_y, color='green')\n",
    "plt.title(\"Regression for Mean Service Time with W.H. Bands\")\n",
    "plt.ylabel(\"Service Time (minutes)\")\n",
    "plt.xlabel(\"Number of Copiers on Job\")\n",
    "plt.show()"
   ]
  },
  {
   "cell_type": "code",
   "execution_count": 252,
   "id": "32ec753b-82c1-4f7e-9bbb-f75c84394242",
   "metadata": {
    "tags": []
   },
   "outputs": [
    {
     "name": "stdout",
     "output_type": "stream",
     "text": [
      "W.H. 90% confidence band limits at X_h = 6: [(86.55262909794367, 92.71003408743492)]\n"
     ]
    }
   ],
   "source": [
    "upper_ci_y = b_0 + b_1*6 + w * sample_variance_Y_h(6)**(1/2)\n",
    "lower_ci_y = b_0 + b_1*6 - w * sample_variance_Y_h(6)**(1/2)\n",
    "print(f\"W.H. 90% confidence band limits at X_h = 6: [{lower_ci_y[0], upper_ci_y[0]}]\")"
   ]
  },
  {
   "cell_type": "markdown",
   "id": "80a020e7-6f24-46bf-97e5-f6fa0c84307d",
   "metadata": {},
   "source": [
    "Using our previous investigation, the Working-Hotelling 90% confidence band limits at $X_h = 6$ are 86.5526 and 92.7100 minutes.  This interval is wider than the original confidence interval due to the $W$ factor.  The Working-Hotelling bands have to encompass the regression at every point, not at just a single level of the predictor."
   ]
  },
  {
   "cell_type": "markdown",
   "id": "592069c3-c471-470d-8b9e-b1092f337bba",
   "metadata": {},
   "source": [
    "### Analysis of Variance"
   ]
  },
  {
   "cell_type": "markdown",
   "id": "c3067948-140f-4aba-ac17-172ba0a8c6ba",
   "metadata": {},
   "source": [
    "Here, we shall create basic and modified ANOVA tables (using Pandas DataFrames) for analyzing the effect of the number of copiers on service time.  We shall first add some useful columns to the `copiers` dataframe."
   ]
  },
  {
   "cell_type": "code",
   "execution_count": 253,
   "id": "85c5be12-4c33-4c43-b1d0-56ecf5d47f37",
   "metadata": {
    "tags": []
   },
   "outputs": [
    {
     "data": {
      "text/html": [
       "<div>\n",
       "<style scoped>\n",
       "    .dataframe tbody tr th:only-of-type {\n",
       "        vertical-align: middle;\n",
       "    }\n",
       "\n",
       "    .dataframe tbody tr th {\n",
       "        vertical-align: top;\n",
       "    }\n",
       "\n",
       "    .dataframe thead th {\n",
       "        text-align: right;\n",
       "    }\n",
       "</style>\n",
       "<table border=\"1\" class=\"dataframe\">\n",
       "  <thead>\n",
       "    <tr style=\"text-align: right;\">\n",
       "      <th></th>\n",
       "      <th>time</th>\n",
       "      <th>n_copiers</th>\n",
       "      <th>y_hat</th>\n",
       "      <th>residual</th>\n",
       "      <th>res_sq</th>\n",
       "      <th>x-x_bar</th>\n",
       "      <th>x-x_bar_sq</th>\n",
       "      <th>y_hat-y_bar</th>\n",
       "      <th>y - y_hat</th>\n",
       "      <th>y - y_bar</th>\n",
       "    </tr>\n",
       "  </thead>\n",
       "  <tbody>\n",
       "    <tr>\n",
       "      <th>0</th>\n",
       "      <td>20</td>\n",
       "      <td>2</td>\n",
       "      <td>29.490339</td>\n",
       "      <td>-9.490339</td>\n",
       "      <td>90.066542</td>\n",
       "      <td>-3.111111</td>\n",
       "      <td>9.679012</td>\n",
       "      <td>-46.776327</td>\n",
       "      <td>-9.490339</td>\n",
       "      <td>-56.266667</td>\n",
       "    </tr>\n",
       "    <tr>\n",
       "      <th>1</th>\n",
       "      <td>60</td>\n",
       "      <td>4</td>\n",
       "      <td>59.560836</td>\n",
       "      <td>0.439164</td>\n",
       "      <td>0.192865</td>\n",
       "      <td>-1.111111</td>\n",
       "      <td>1.234568</td>\n",
       "      <td>-16.705831</td>\n",
       "      <td>0.439164</td>\n",
       "      <td>-16.266667</td>\n",
       "    </tr>\n",
       "    <tr>\n",
       "      <th>2</th>\n",
       "      <td>46</td>\n",
       "      <td>3</td>\n",
       "      <td>44.525587</td>\n",
       "      <td>1.474413</td>\n",
       "      <td>2.173892</td>\n",
       "      <td>-2.111111</td>\n",
       "      <td>4.456790</td>\n",
       "      <td>-31.741079</td>\n",
       "      <td>1.474413</td>\n",
       "      <td>-30.266667</td>\n",
       "    </tr>\n",
       "    <tr>\n",
       "      <th>3</th>\n",
       "      <td>41</td>\n",
       "      <td>2</td>\n",
       "      <td>29.490339</td>\n",
       "      <td>11.509661</td>\n",
       "      <td>132.472287</td>\n",
       "      <td>-3.111111</td>\n",
       "      <td>9.679012</td>\n",
       "      <td>-46.776327</td>\n",
       "      <td>11.509661</td>\n",
       "      <td>-35.266667</td>\n",
       "    </tr>\n",
       "    <tr>\n",
       "      <th>4</th>\n",
       "      <td>12</td>\n",
       "      <td>1</td>\n",
       "      <td>14.455091</td>\n",
       "      <td>-2.455091</td>\n",
       "      <td>6.027474</td>\n",
       "      <td>-4.111111</td>\n",
       "      <td>16.901235</td>\n",
       "      <td>-61.811575</td>\n",
       "      <td>-2.455091</td>\n",
       "      <td>-64.266667</td>\n",
       "    </tr>\n",
       "  </tbody>\n",
       "</table>\n",
       "</div>"
      ],
      "text/plain": [
       "   time  n_copiers      y_hat   residual      res_sq   x-x_bar  x-x_bar_sq  \\\n",
       "0    20          2  29.490339  -9.490339   90.066542 -3.111111    9.679012   \n",
       "1    60          4  59.560836   0.439164    0.192865 -1.111111    1.234568   \n",
       "2    46          3  44.525587   1.474413    2.173892 -2.111111    4.456790   \n",
       "3    41          2  29.490339  11.509661  132.472287 -3.111111    9.679012   \n",
       "4    12          1  14.455091  -2.455091    6.027474 -4.111111   16.901235   \n",
       "\n",
       "   y_hat-y_bar  y - y_hat  y - y_bar  \n",
       "0   -46.776327  -9.490339 -56.266667  \n",
       "1   -16.705831   0.439164 -16.266667  \n",
       "2   -31.741079   1.474413 -30.266667  \n",
       "3   -46.776327  11.509661 -35.266667  \n",
       "4   -61.811575  -2.455091 -64.266667  "
      ]
     },
     "execution_count": 253,
     "metadata": {},
     "output_type": "execute_result"
    }
   ],
   "source": [
    "copiers[\"y_hat-y_bar\"] = copiers[\"y_hat\"] - np.mean(copiers[\"time\"])\n",
    "copiers[\"y - y_hat\"] = copiers[\"time\"] - copiers[\"y_hat\"]\n",
    "copiers[\"y - y_bar\"] = copiers[\"time\"] - np.mean(copiers[\"time\"])\n",
    "copiers.head()"
   ]
  },
  {
   "cell_type": "code",
   "execution_count": 254,
   "id": "7877cc81-5bbc-4976-b587-06b02a0346d1",
   "metadata": {
    "tags": []
   },
   "outputs": [
    {
     "data": {
      "text/html": [
       "<div>\n",
       "<style scoped>\n",
       "    .dataframe tbody tr th:only-of-type {\n",
       "        vertical-align: middle;\n",
       "    }\n",
       "\n",
       "    .dataframe tbody tr th {\n",
       "        vertical-align: top;\n",
       "    }\n",
       "\n",
       "    .dataframe thead th {\n",
       "        text-align: right;\n",
       "    }\n",
       "</style>\n",
       "<table border=\"1\" class=\"dataframe\">\n",
       "  <thead>\n",
       "    <tr style=\"text-align: right;\">\n",
       "      <th></th>\n",
       "      <th>SS</th>\n",
       "      <th>df</th>\n",
       "      <th>MS</th>\n",
       "      <th>F</th>\n",
       "      <th>P(&gt;F)</th>\n",
       "    </tr>\n",
       "    <tr>\n",
       "      <th>Source</th>\n",
       "      <th></th>\n",
       "      <th></th>\n",
       "      <th></th>\n",
       "      <th></th>\n",
       "      <th></th>\n",
       "    </tr>\n",
       "  </thead>\n",
       "  <tbody>\n",
       "    <tr>\n",
       "      <th>Regression</th>\n",
       "      <td>76960.422977</td>\n",
       "      <td>1</td>\n",
       "      <td>76960.422977</td>\n",
       "      <td>968.657196</td>\n",
       "      <td>0.0</td>\n",
       "    </tr>\n",
       "    <tr>\n",
       "      <th>Error</th>\n",
       "      <td>3416.377023</td>\n",
       "      <td>43</td>\n",
       "      <td>79.450628</td>\n",
       "      <td></td>\n",
       "      <td></td>\n",
       "    </tr>\n",
       "    <tr>\n",
       "      <th>Total</th>\n",
       "      <td>80376.800000</td>\n",
       "      <td>44</td>\n",
       "      <td></td>\n",
       "      <td></td>\n",
       "      <td></td>\n",
       "    </tr>\n",
       "  </tbody>\n",
       "</table>\n",
       "</div>"
      ],
      "text/plain": [
       "                      SS  df            MS           F P(>F)\n",
       "Source                                                      \n",
       "Regression  76960.422977   1  76960.422977  968.657196   0.0\n",
       "Error        3416.377023  43     79.450628                  \n",
       "Total       80376.800000  44                                "
      ]
     },
     "execution_count": 254,
     "metadata": {},
     "output_type": "execute_result"
    }
   ],
   "source": [
    "ss_reg = sum(copiers[\"y_hat-y_bar\"]**2)\n",
    "ss_err = sum(copiers[\"y - y_hat\"]**2)\n",
    "ss_tot = sum(copiers[\"y - y_bar\"]**2)\n",
    "df_reg = 1\n",
    "df_err = copiers.shape[0] - 2\n",
    "df_tot = df_reg + df_err\n",
    "ms_reg = ss_reg / df_reg\n",
    "ms_err = ss_err / df_err\n",
    "f_basic = ms_reg / ms_err\n",
    "p_basic = 1 - f.cdf(f_basic, 1, 43)\n",
    "\n",
    "anova_basic = pd.DataFrame({\"Source\":[\"Regression\", \"Error\", \"Total\"], \n",
    "                            \"SS\":[ss_reg, ss_err, ss_tot],\n",
    "                            \"df\":[df_reg, df_err, df_tot], \n",
    "                            \"MS\":[ms_reg, ms_err, ''],\n",
    "                            \"F\": [f_basic,'',''],\n",
    "                            \"P(>F)\":[p_basic,'','']})\n",
    "anova_basic = anova_basic.set_index(\"Source\")\n",
    "anova_basic.head()"
   ]
  },
  {
   "cell_type": "markdown",
   "id": "5798ad4e-9a7b-47ff-b662-97d8ca1f956e",
   "metadata": {},
   "source": [
    "A modified ANOVA table can be constructed as follows:"
   ]
  },
  {
   "cell_type": "code",
   "execution_count": 255,
   "id": "de115f0e-8b9d-4047-af28-1b9c61c8765f",
   "metadata": {
    "tags": []
   },
   "outputs": [
    {
     "data": {
      "text/html": [
       "<div>\n",
       "<style scoped>\n",
       "    .dataframe tbody tr th:only-of-type {\n",
       "        vertical-align: middle;\n",
       "    }\n",
       "\n",
       "    .dataframe tbody tr th {\n",
       "        vertical-align: top;\n",
       "    }\n",
       "\n",
       "    .dataframe thead th {\n",
       "        text-align: right;\n",
       "    }\n",
       "</style>\n",
       "<table border=\"1\" class=\"dataframe\">\n",
       "  <thead>\n",
       "    <tr style=\"text-align: right;\">\n",
       "      <th></th>\n",
       "      <th>SS</th>\n",
       "      <th>df</th>\n",
       "      <th>MS</th>\n",
       "      <th>F</th>\n",
       "      <th>P(&gt;F)</th>\n",
       "    </tr>\n",
       "    <tr>\n",
       "      <th>Source</th>\n",
       "      <th></th>\n",
       "      <th></th>\n",
       "      <th></th>\n",
       "      <th></th>\n",
       "      <th></th>\n",
       "    </tr>\n",
       "  </thead>\n",
       "  <tbody>\n",
       "    <tr>\n",
       "      <th>Regression</th>\n",
       "      <td>76960.422977</td>\n",
       "      <td>1</td>\n",
       "      <td>76960.422977</td>\n",
       "      <td>968.657196</td>\n",
       "      <td>0.0</td>\n",
       "    </tr>\n",
       "    <tr>\n",
       "      <th>Error</th>\n",
       "      <td>3416.377023</td>\n",
       "      <td>43</td>\n",
       "      <td>79.450628</td>\n",
       "      <td></td>\n",
       "      <td></td>\n",
       "    </tr>\n",
       "    <tr>\n",
       "      <th>Total</th>\n",
       "      <td>80376.800000</td>\n",
       "      <td>44</td>\n",
       "      <td></td>\n",
       "      <td></td>\n",
       "      <td></td>\n",
       "    </tr>\n",
       "    <tr>\n",
       "      <th>Correction for mean</th>\n",
       "      <td>261747.200000</td>\n",
       "      <td>1</td>\n",
       "      <td></td>\n",
       "      <td></td>\n",
       "      <td></td>\n",
       "    </tr>\n",
       "    <tr>\n",
       "      <th>Total, uncorrected</th>\n",
       "      <td>342124.000000</td>\n",
       "      <td>45</td>\n",
       "      <td></td>\n",
       "      <td></td>\n",
       "      <td></td>\n",
       "    </tr>\n",
       "  </tbody>\n",
       "</table>\n",
       "</div>"
      ],
      "text/plain": [
       "                                SS  df            MS           F P(>F)\n",
       "Source                                                                \n",
       "Regression            76960.422977   1  76960.422977  968.657196   0.0\n",
       "Error                  3416.377023  43     79.450628                  \n",
       "Total                 80376.800000  44                                \n",
       "Correction for mean  261747.200000   1                                \n",
       "Total, uncorrected   342124.000000  45                                "
      ]
     },
     "execution_count": 255,
     "metadata": {},
     "output_type": "execute_result"
    }
   ],
   "source": [
    "ss_correction = copiers.shape[0] * np.mean(copiers.time)**2\n",
    "df_correction = 1\n",
    "ss_uncorrected = sum(copiers.time**2)\n",
    "df_uncorrected = df_reg + df_err + df_correction\n",
    "\n",
    "anova_mod = pd.DataFrame({\"Source\":[\"Regression\", \"Error\", \"Total\", \"Correction for mean\", \"Total, uncorrected\"], \n",
    "                            \"SS\":[ss_reg, ss_err, ss_tot, ss_correction, ss_uncorrected],\n",
    "                            \"df\":[df_reg, df_err, df_tot, df_correction, df_uncorrected], \n",
    "                            \"MS\":[ms_reg, ms_err, '', '', ''],\n",
    "                            \"F\": [f_basic,'','','',''],\n",
    "                            \"P(>F)\":[p_basic,'','','','']})\n",
    "anova_mod = anova_mod.set_index(\"Source\")\n",
    "\n",
    "anova_mod.head(10)"
   ]
  },
  {
   "cell_type": "markdown",
   "id": "04048d65-4260-47bb-bfe5-676e1bbfd41f",
   "metadata": {},
   "source": [
    "These tables can be used to test the hypotheses $$\\begin{align}\n",
    "H_0:&\\quad \\beta_1 = 0\\\\\n",
    "H_A:&\\quad \\beta_1 \\neq 0\n",
    "\\end{align}$$ Our $F$-statistic is 968.6572.  The $p$-value is quite small (it even shows as 0 in the table, which suggests we reject the null hypothesis and conclude there is statistically significant evidence (at $\\alpha = 0.1$) to suggest $\\beta_1 \\neq 0$ in our regression model.\n",
    "\n",
    "The reduction in the total variation of minutes spent on a call reduced when the number of the copiers serviced is introduced into the analysis is the correlation of determination $R^2$.  We calculate it with the following formula: $$ R^2 = \\frac{SS_{Regression}}{SS_{Total}}$$."
   ]
  },
  {
   "cell_type": "code",
   "execution_count": 256,
   "id": "ae09262a-5352-4f71-97be-78894021d080",
   "metadata": {
    "tags": []
   },
   "outputs": [
    {
     "name": "stdout",
     "output_type": "stream",
     "text": [
      "0.95749548347908\n",
      "[0.97851698]\n"
     ]
    }
   ],
   "source": [
    "coef_det = ss_reg / ss_tot\n",
    "coef_cor = coef_det**(1/2) * (b_1 / abs(b_1))\n",
    "print(coef_det)\n",
    "print(coef_cor)"
   ]
  },
  {
   "cell_type": "markdown",
   "id": "f72cab47-37e6-441f-9eeb-d3ade25f62bc",
   "metadata": {
    "tags": []
   },
   "source": [
    "We find about a 96% reduction in the variation of the number of service minutes with the introduction of the number of copiers into the analysis, which is quite large.  The coefficient of correlation, a measure of the strength of the linear association, is $r = +\\sqrt{R^2} = 0.9785$ (+ since $b_1 > 0)$, which is highly positive."
   ]
  },
  {
   "cell_type": "markdown",
   "id": "0df53fc3-5e4f-4e40-b249-13acf87aad31",
   "metadata": {},
   "source": [
    "### Diagnostic Plots"
   ]
  },
  {
   "cell_type": "code",
   "execution_count": 257,
   "id": "346af3a5-9242-45ba-9c67-f2f56d3ce9cd",
   "metadata": {
    "tags": []
   },
   "outputs": [
    {
     "data": {
      "text/plain": [
       "<Axes: ylabel='n_copiers'>"
      ]
     },
     "execution_count": 257,
     "metadata": {},
     "output_type": "execute_result"
    },
    {
     "data": {
      "image/png": "[encoded data removed]",
      "text/plain": [
       "<Figure size 640x480 with 1 Axes>"
      ]
     },
     "metadata": {},
     "output_type": "display_data"
    }
   ],
   "source": [
    "sns.lineplot(data=copiers, x=copiers.index, y=\"n_copiers\")"
   ]
  },
  {
   "cell_type": "code",
   "execution_count": 258,
   "id": "2a8c54f0-5e0a-498b-8266-b8acbdeb3331",
   "metadata": {
    "tags": []
   },
   "outputs": [
    {
     "data": {
      "text/html": [
       "<div>\n",
       "<style scoped>\n",
       "    .dataframe tbody tr th:only-of-type {\n",
       "        vertical-align: middle;\n",
       "    }\n",
       "\n",
       "    .dataframe tbody tr th {\n",
       "        vertical-align: top;\n",
       "    }\n",
       "\n",
       "    .dataframe thead th {\n",
       "        text-align: right;\n",
       "    }\n",
       "</style>\n",
       "<table border=\"1\" class=\"dataframe\">\n",
       "  <thead>\n",
       "    <tr style=\"text-align: right;\">\n",
       "      <th></th>\n",
       "      <th>time</th>\n",
       "      <th>n_copiers</th>\n",
       "      <th>y_hat</th>\n",
       "      <th>residual</th>\n",
       "      <th>res_sq</th>\n",
       "      <th>x-x_bar</th>\n",
       "      <th>x-x_bar_sq</th>\n",
       "      <th>y_hat-y_bar</th>\n",
       "      <th>y - y_hat</th>\n",
       "      <th>y - y_bar</th>\n",
       "    </tr>\n",
       "  </thead>\n",
       "  <tbody>\n",
       "    <tr>\n",
       "      <th>0</th>\n",
       "      <td>20</td>\n",
       "      <td>2</td>\n",
       "      <td>29.490339</td>\n",
       "      <td>-9.490339</td>\n",
       "      <td>90.066542</td>\n",
       "      <td>-3.111111</td>\n",
       "      <td>9.679012</td>\n",
       "      <td>-46.776327</td>\n",
       "      <td>-9.490339</td>\n",
       "      <td>-56.266667</td>\n",
       "    </tr>\n",
       "    <tr>\n",
       "      <th>1</th>\n",
       "      <td>60</td>\n",
       "      <td>4</td>\n",
       "      <td>59.560836</td>\n",
       "      <td>0.439164</td>\n",
       "      <td>0.192865</td>\n",
       "      <td>-1.111111</td>\n",
       "      <td>1.234568</td>\n",
       "      <td>-16.705831</td>\n",
       "      <td>0.439164</td>\n",
       "      <td>-16.266667</td>\n",
       "    </tr>\n",
       "    <tr>\n",
       "      <th>2</th>\n",
       "      <td>46</td>\n",
       "      <td>3</td>\n",
       "      <td>44.525587</td>\n",
       "      <td>1.474413</td>\n",
       "      <td>2.173892</td>\n",
       "      <td>-2.111111</td>\n",
       "      <td>4.456790</td>\n",
       "      <td>-31.741079</td>\n",
       "      <td>1.474413</td>\n",
       "      <td>-30.266667</td>\n",
       "    </tr>\n",
       "    <tr>\n",
       "      <th>3</th>\n",
       "      <td>41</td>\n",
       "      <td>2</td>\n",
       "      <td>29.490339</td>\n",
       "      <td>11.509661</td>\n",
       "      <td>132.472287</td>\n",
       "      <td>-3.111111</td>\n",
       "      <td>9.679012</td>\n",
       "      <td>-46.776327</td>\n",
       "      <td>11.509661</td>\n",
       "      <td>-35.266667</td>\n",
       "    </tr>\n",
       "    <tr>\n",
       "      <th>4</th>\n",
       "      <td>12</td>\n",
       "      <td>1</td>\n",
       "      <td>14.455091</td>\n",
       "      <td>-2.455091</td>\n",
       "      <td>6.027474</td>\n",
       "      <td>-4.111111</td>\n",
       "      <td>16.901235</td>\n",
       "      <td>-61.811575</td>\n",
       "      <td>-2.455091</td>\n",
       "      <td>-64.266667</td>\n",
       "    </tr>\n",
       "  </tbody>\n",
       "</table>\n",
       "</div>"
      ],
      "text/plain": [
       "   time  n_copiers      y_hat   residual      res_sq   x-x_bar  x-x_bar_sq  \\\n",
       "0    20          2  29.490339  -9.490339   90.066542 -3.111111    9.679012   \n",
       "1    60          4  59.560836   0.439164    0.192865 -1.111111    1.234568   \n",
       "2    46          3  44.525587   1.474413    2.173892 -2.111111    4.456790   \n",
       "3    41          2  29.490339  11.509661  132.472287 -3.111111    9.679012   \n",
       "4    12          1  14.455091  -2.455091    6.027474 -4.111111   16.901235   \n",
       "\n",
       "   y_hat-y_bar  y - y_hat  y - y_bar  \n",
       "0   -46.776327  -9.490339 -56.266667  \n",
       "1   -16.705831   0.439164 -16.266667  \n",
       "2   -31.741079   1.474413 -30.266667  \n",
       "3   -46.776327  11.509661 -35.266667  \n",
       "4   -61.811575  -2.455091 -64.266667  "
      ]
     },
     "execution_count": 258,
     "metadata": {},
     "output_type": "execute_result"
    }
   ],
   "source": [
    "copiers.head()"
   ]
  },
  {
   "cell_type": "markdown",
   "id": "6adcefa2-8ad3-466e-90cc-c2473eb9ec42",
   "metadata": {},
   "source": [
    "### Diagnostics\n",
    "\n",
    "#### Residuals\n",
    "\n",
    "Here, we will plot the residuals given by our regression against the predicted values, $\\hat{Y}$, and againt the number of copiers on a service call, $X$.  This will allow us to check if the data follows some of the assumptions of our linear regression:\n",
    "\n",
    "1. We can determine if the proper regression function is actually linear.\n",
    "2. We can determine if the residuals have constant variance.\n",
    "3. We can determine if there are outliers in the data."
   ]
  },
  {
   "cell_type": "code",
   "execution_count": 259,
   "id": "1148e802-1a5e-4f31-a5bc-bb87a1a25ec1",
   "metadata": {
    "tags": []
   },
   "outputs": [
    {
     "data": {
      "text/plain": [
       "<Axes: xlabel='n_copiers', ylabel='residual'>"
      ]
     },
     "execution_count": 259,
     "metadata": {},
     "output_type": "execute_result"
    },
    {
     "data": {
      "image/png": "[encoded data removed]",
      "text/plain": [
       "<Figure size 640x480 with 2 Axes>"
      ]
     },
     "metadata": {},
     "output_type": "display_data"
    }
   ],
   "source": [
    "fig, (ax1, ax2) = plt.subplots(ncols=2, sharey=True)\n",
    "sns.scatterplot(data=copiers, x=\"y_hat\", y=\"residual\", ax=ax1)\n",
    "sns.scatterplot(data=copiers, x=\"n_copiers\", y=\"residual\", ax=ax2)"
   ]
  },
  {
   "cell_type": "markdown",
   "id": "030121b6-4538-4d45-9d73-30627e7275f6",
   "metadata": {},
   "source": [
    "From the plots, we see a slight increase in service time residual variance at the higher end of number of copiers in a call.  The variance appears to increase at these values.  This could be due to some outliers in this area, or it could suggest we need more complexity in our regression (a quadratic model may be a better fit.)  \n",
    "\n",
    "#### Normal Probability\n",
    "\n",
    "Here we will make a histogram, as well as a normal probability plot (or qq-plot) to determine if the data are normally distributed."
   ]
  },
  {
   "cell_type": "code",
   "execution_count": 260,
   "id": "2ab33f94-271f-4b19-bd7e-bcf794768003",
   "metadata": {
    "tags": []
   },
   "outputs": [
    {
     "data": {
      "text/plain": [
       "<Axes: xlabel='n_copiers', ylabel='Count'>"
      ]
     },
     "execution_count": 260,
     "metadata": {},
     "output_type": "execute_result"
    },
    {
     "data": {
      "image/png": "[encoded data removed]",
      "text/plain": [
       "<Figure size 640x480 with 1 Axes>"
      ]
     },
     "metadata": {},
     "output_type": "display_data"
    }
   ],
   "source": [
    "sns.histplot(data=copiers, x=\"n_copiers\", binwidth=1)"
   ]
  },
  {
   "cell_type": "code",
   "execution_count": 261,
   "id": "f197b14b-e319-4ccc-a8d1-2eb98f92dcc7",
   "metadata": {
    "tags": []
   },
   "outputs": [
    {
     "data": {
      "image/png": "[encoded data removed]",
      "text/plain": [
       "<Figure size 500x500 with 1 Axes>"
      ]
     },
     "metadata": {},
     "output_type": "display_data"
    }
   ],
   "source": [
    "from scipy.stats import norm\n",
    "\n",
    "copiers[\"res_rank\"] = copiers[\"residual\"].rank()\n",
    "copiers[\"exp_normal_value\"] = copier_mse**(0.5) * norm.ppf((copiers[\"res_rank\"] - 0.375)/(copiers.shape[0] + 0.25))\n",
    "\n",
    "identity = np.linspace(-22, 22, 100)\n",
    "\n",
    "grid_npp = sns.FacetGrid(data=copiers, height=5)#, ylim=(0,170))\n",
    "grid_npp = grid_npp.map(sns.scatterplot, data=copiers, x=\"exp_normal_value\", y=\"residual\", edgecolor='w')\n",
    "plt.plot(identity, identity, color='black')\n",
    "plt.title(\"Normal Probability Plot\")\n",
    "plt.ylabel(\"Residual\")\n",
    "plt.xlabel(\"Expected\")\n",
    "plt.show()"
   ]
  },
  {
   "cell_type": "markdown",
   "id": "44d2c7b7-a9d3-4526-ba53-528057e9fd42",
   "metadata": {},
   "source": [
    "This plot suggests the data is approximately normal with heavier tails.\n",
    "\n",
    "We can also check the correlation coefficient $\\rho_{12}$ between the residuals and expected values under normality to test whether the residuals are normally distributed (we are testing the \"linear strength\" of the relationship).  The hypotheses are $$\\begin{align}\n",
    "H_0:&\\quad\\text{The residuals are normally distributed}\\\\\n",
    "H_A:&\\quad\\text{The residuals are nonnormal}\n",
    "\\end{align}$$"
   ]
  },
  {
   "cell_type": "code",
   "execution_count": 262,
   "id": "39abee4c-08a5-42c2-8fcd-4eefc4248a53",
   "metadata": {
    "tags": []
   },
   "outputs": [
    {
     "name": "stdout",
     "output_type": "stream",
     "text": [
      "0.9892079152420709\n"
     ]
    }
   ],
   "source": [
    "corr_res_exp = np.corrcoef(ordered.res,ordered.exp)[0,1]\n",
    "print(corr_res_exp)"
   ]
  },
  {
   "cell_type": "markdown",
   "id": "a0d236f7-4332-44b2-b545-638cdccadd26",
   "metadata": {},
   "source": [
    "With a correlation coefficient of 0.9892 and a critical value of 0.979 ($\\alpha = 0.1$) from Table B.6 in the text, we fail to reject the null hypothesis and conclude the residuals are normally distributed."
   ]
  },
  {
   "cell_type": "markdown",
   "id": "367d8d9b-a3d3-4758-afcd-351fd337452e",
   "metadata": {},
   "source": [
    "#### Correlation of Residuals\n",
    "\n",
    "To see if there is potential correlation of the error terms in the linear regression model, we can plot the residuals against the sequential order of the data entries."
   ]
  },
  {
   "cell_type": "code",
   "execution_count": 263,
   "id": "d8962eae-ba32-42ab-84da-7ba42dedac41",
   "metadata": {
    "tags": []
   },
   "outputs": [
    {
     "data": {
      "text/plain": [
       "<Axes: ylabel='residual'>"
      ]
     },
     "execution_count": 263,
     "metadata": {},
     "output_type": "execute_result"
    },
    {
     "data": {
      "image/png": "[encoded data removed]",
      "text/plain": [
       "<Figure size 640x480 with 1 Axes>"
      ]
     },
     "metadata": {},
     "output_type": "display_data"
    }
   ],
   "source": [
    "sns.scatterplot(data=copiers, x=copiers.index, y=\"residual\")"
   ]
  },
  {
   "cell_type": "markdown",
   "id": "d2658831-9dfd-4d21-a9c9-54452879f724",
   "metadata": {},
   "source": [
    "There does not appear to be any systematic correlation between the error terms / residuals."
   ]
  },
  {
   "cell_type": "markdown",
   "id": "8bb386e4-c52f-4afc-8f78-b3835b3bf605",
   "metadata": {},
   "source": [
    "#### Test for Nonconstant Variance in Error\n",
    "\n",
    "We shall perform a Breusch-Pagan test to determine whether variance is constant in the error terms $\\epsilon_i$.  The hypotheses for this test are $$\\begin{align}\n",
    "H_0&:\\quad \\sigma_i^2\\text{ is constant for all }\\epsilon_i\\\\\n",
    "H_A&:\\quad \\sigma_i^2\\text{ is not constant}\n",
    "\\end{align}$$ We will use the test statistic $$\\chi_{BP}^2 = \\frac{SSR^*/2}{(SSE/n)^2} \\sim \\chi^2_{(df=1)}$$where $SSR^*$ is the regression sum of squares from the regression of $\\epsilon_i^2$ on $X_i$."
   ]
  },
  {
   "cell_type": "code",
   "execution_count": 264,
   "id": "770588c9-0484-4a62-b8c7-99d13414dd74",
   "metadata": {
    "tags": []
   },
   "outputs": [
    {
     "name": "stdout",
     "output_type": "stream",
     "text": [
      "Breusch-Pagan statistic:  1.3146797263175305\n",
      "Critical value: 3.841458820694124\n"
     ]
    }
   ],
   "source": [
    "from scipy.stats import chi2\n",
    "\n",
    "bp_df = pd.DataFrame()\n",
    "bp_df[\"x\"] = copiers[[\"n_copiers\"]]\n",
    "bp_df[\"y\"] = copiers[\"res_sq\"]\n",
    "\n",
    "res_reg = LinearRegression().fit(bp_df[[\"x\"]], bp_df.y)\n",
    "\n",
    "def f_err2(x_i):\n",
    "    return res_reg.intercept_ + res_reg.coef_[0]*x_i\n",
    "\n",
    "bp_df[\"y_hat\"] = f_err2(bp_df.x)\n",
    "bp_df[\"y_hat-y_bar\"] = bp_df[\"y_hat\"] - np.mean(bp_df[\"y\"])\n",
    "ssr_star = sum(bp_df[\"y_hat-y_bar\"]**2)\n",
    "\n",
    "x2_bp = (ssr_star/2)/(copier_sse/45)**2\n",
    "print(f\"Breusch-Pagan statistic:  {x2_bp}\")\n",
    "print(f\"Critical value: {chi2.ppf(1-0.05, 1)}\")"
   ]
  },
  {
   "cell_type": "markdown",
   "id": "467e240a-71b9-4974-a4e5-a9098c7c88c2",
   "metadata": {},
   "source": [
    "We see that $\\chi_{BP}^2 = 1.3147 < 3.84$, we fail to reject the null hypothesis and conclude there is no statistically significant evidence of nonconstant variance in the error terms."
   ]
  },
  {
   "cell_type": "markdown",
   "id": "988dfc70-419d-4898-941f-3934444e71da",
   "metadata": {},
   "source": [
    "### Aditional Data\n",
    "\n",
    "Suppose we have additional data about predictors mean copier age on the call, `avg_copier_age`, and servicer experience in years, `serv_exp`, which are provided in the `CH03PR04.txt` file.  We would like to see if either of these features would provide more information if included in a regression model."
   ]
  },
  {
   "cell_type": "code",
   "execution_count": 265,
   "id": "96e059e2-1e60-408d-9fe4-8369317decb7",
   "metadata": {
    "tags": []
   },
   "outputs": [],
   "source": [
    "copiers_new = pd.read_csv(\"CH03PR04.txt\", header=None, delimiter=\"\\t\", engine='python')\n",
    "copiers_new.columns = [\"time\", \"n_copiers\", \"avg_copier_age\", \"serv_exp\"]\n",
    "copiers[\"avg_copier_age\"] = copiers_new[\"avg_copier_age\"]\n",
    "copiers[\"serv_exp\"] = copiers_new[\"serv_exp\"]"
   ]
  },
  {
   "cell_type": "code",
   "execution_count": 266,
   "id": "664d40ae-766b-4cc5-b9d9-3ff4c883e8c4",
   "metadata": {
    "tags": []
   },
   "outputs": [
    {
     "data": {
      "text/html": [
       "<div>\n",
       "<style scoped>\n",
       "    .dataframe tbody tr th:only-of-type {\n",
       "        vertical-align: middle;\n",
       "    }\n",
       "\n",
       "    .dataframe tbody tr th {\n",
       "        vertical-align: top;\n",
       "    }\n",
       "\n",
       "    .dataframe thead th {\n",
       "        text-align: right;\n",
       "    }\n",
       "</style>\n",
       "<table border=\"1\" class=\"dataframe\">\n",
       "  <thead>\n",
       "    <tr style=\"text-align: right;\">\n",
       "      <th></th>\n",
       "      <th>time</th>\n",
       "      <th>n_copiers</th>\n",
       "      <th>y_hat</th>\n",
       "      <th>residual</th>\n",
       "      <th>res_sq</th>\n",
       "      <th>x-x_bar</th>\n",
       "      <th>x-x_bar_sq</th>\n",
       "      <th>y_hat-y_bar</th>\n",
       "      <th>y - y_hat</th>\n",
       "      <th>y - y_bar</th>\n",
       "      <th>res_rank</th>\n",
       "      <th>exp_normal_value</th>\n",
       "      <th>avg_copier_age</th>\n",
       "      <th>serv_exp</th>\n",
       "    </tr>\n",
       "  </thead>\n",
       "  <tbody>\n",
       "    <tr>\n",
       "      <th>0</th>\n",
       "      <td>20</td>\n",
       "      <td>2</td>\n",
       "      <td>29.490339</td>\n",
       "      <td>-9.490339</td>\n",
       "      <td>90.066542</td>\n",
       "      <td>-3.111111</td>\n",
       "      <td>9.679012</td>\n",
       "      <td>-46.776327</td>\n",
       "      <td>-9.490339</td>\n",
       "      <td>-56.266667</td>\n",
       "      <td>7.5</td>\n",
       "      <td>-8.957700</td>\n",
       "      <td>20</td>\n",
       "      <td>4</td>\n",
       "    </tr>\n",
       "    <tr>\n",
       "      <th>1</th>\n",
       "      <td>60</td>\n",
       "      <td>4</td>\n",
       "      <td>59.560836</td>\n",
       "      <td>0.439164</td>\n",
       "      <td>0.192865</td>\n",
       "      <td>-1.111111</td>\n",
       "      <td>1.234568</td>\n",
       "      <td>-16.705831</td>\n",
       "      <td>0.439164</td>\n",
       "      <td>-16.266667</td>\n",
       "      <td>24.0</td>\n",
       "      <td>0.494017</td>\n",
       "      <td>19</td>\n",
       "      <td>5</td>\n",
       "    </tr>\n",
       "    <tr>\n",
       "      <th>2</th>\n",
       "      <td>46</td>\n",
       "      <td>3</td>\n",
       "      <td>44.525587</td>\n",
       "      <td>1.474413</td>\n",
       "      <td>2.173892</td>\n",
       "      <td>-2.111111</td>\n",
       "      <td>4.456790</td>\n",
       "      <td>-31.741079</td>\n",
       "      <td>1.474413</td>\n",
       "      <td>-30.266667</td>\n",
       "      <td>26.0</td>\n",
       "      <td>1.488179</td>\n",
       "      <td>27</td>\n",
       "      <td>4</td>\n",
       "    </tr>\n",
       "    <tr>\n",
       "      <th>3</th>\n",
       "      <td>41</td>\n",
       "      <td>2</td>\n",
       "      <td>29.490339</td>\n",
       "      <td>11.509661</td>\n",
       "      <td>132.472287</td>\n",
       "      <td>-3.111111</td>\n",
       "      <td>9.679012</td>\n",
       "      <td>-46.776327</td>\n",
       "      <td>11.509661</td>\n",
       "      <td>-35.266667</td>\n",
       "      <td>41.0</td>\n",
       "      <td>11.311771</td>\n",
       "      <td>32</td>\n",
       "      <td>1</td>\n",
       "    </tr>\n",
       "    <tr>\n",
       "      <th>4</th>\n",
       "      <td>12</td>\n",
       "      <td>1</td>\n",
       "      <td>14.455091</td>\n",
       "      <td>-2.455091</td>\n",
       "      <td>6.027474</td>\n",
       "      <td>-4.111111</td>\n",
       "      <td>16.901235</td>\n",
       "      <td>-61.811575</td>\n",
       "      <td>-2.455091</td>\n",
       "      <td>-64.266667</td>\n",
       "      <td>18.0</td>\n",
       "      <td>-2.501266</td>\n",
       "      <td>24</td>\n",
       "      <td>4</td>\n",
       "    </tr>\n",
       "  </tbody>\n",
       "</table>\n",
       "</div>"
      ],
      "text/plain": [
       "   time  n_copiers      y_hat   residual      res_sq   x-x_bar  x-x_bar_sq  \\\n",
       "0    20          2  29.490339  -9.490339   90.066542 -3.111111    9.679012   \n",
       "1    60          4  59.560836   0.439164    0.192865 -1.111111    1.234568   \n",
       "2    46          3  44.525587   1.474413    2.173892 -2.111111    4.456790   \n",
       "3    41          2  29.490339  11.509661  132.472287 -3.111111    9.679012   \n",
       "4    12          1  14.455091  -2.455091    6.027474 -4.111111   16.901235   \n",
       "\n",
       "   y_hat-y_bar  y - y_hat  y - y_bar  res_rank  exp_normal_value  \\\n",
       "0   -46.776327  -9.490339 -56.266667       7.5         -8.957700   \n",
       "1   -16.705831   0.439164 -16.266667      24.0          0.494017   \n",
       "2   -31.741079   1.474413 -30.266667      26.0          1.488179   \n",
       "3   -46.776327  11.509661 -35.266667      41.0         11.311771   \n",
       "4   -61.811575  -2.455091 -64.266667      18.0         -2.501266   \n",
       "\n",
       "   avg_copier_age  serv_exp  \n",
       "0              20         4  \n",
       "1              19         5  \n",
       "2              27         4  \n",
       "3              32         1  \n",
       "4              24         4  "
      ]
     },
     "execution_count": 266,
     "metadata": {},
     "output_type": "execute_result"
    }
   ],
   "source": [
    "copiers.head()"
   ]
  },
  {
   "cell_type": "code",
   "execution_count": 267,
   "id": "b761b133-503b-49ba-b697-326a3dfed7ed",
   "metadata": {
    "tags": []
   },
   "outputs": [
    {
     "data": {
      "text/plain": [
       "<Axes: xlabel='serv_exp', ylabel='residual'>"
      ]
     },
     "execution_count": 267,
     "metadata": {},
     "output_type": "execute_result"
    },
    {
     "data": {
      "image/png": "[encoded data removed]",
      "text/plain": [
       "<Figure size 640x480 with 2 Axes>"
      ]
     },
     "metadata": {},
     "output_type": "display_data"
    }
   ],
   "source": [
    "res_fig, (ax1, ax2) = plt.subplots(ncols=2, sharey=True)\n",
    "sns.scatterplot(data=copiers, x=\"avg_copier_age\", y=\"residual\", ax=ax1)\n",
    "sns.scatterplot(data=copiers, x=\"serv_exp\", y=\"residual\", ax=ax2)"
   ]
  },
  {
   "cell_type": "markdown",
   "id": "e31ebb62-5e33-4816-8898-b2e10c6243ae",
   "metadata": {},
   "source": [
    "From these plots, there doesn't appear to be a relationship between servicer experience and the residuals.  However, the residuals appear to have a linear relationship with mean copier age on call, which suggests there would be some value in including this predictor in future regression models."
   ]
  },
  {
   "cell_type": "markdown",
   "id": "a0079576-cf4c-447c-b9dc-a2dfbfc815b5",
   "metadata": {},
   "source": [
    "#### Lack of Fit"
   ]
  },
  {
   "cell_type": "code",
   "execution_count": 268,
   "id": "75affddf-b334-4334-902c-e737ea15ff7a",
   "metadata": {
    "tags": []
   },
   "outputs": [
    {
     "name": "stdout",
     "output_type": "stream",
     "text": [
      "SSE(R):  3416.377023498695\n",
      "SSE(F):  2797.6583333333333\n"
     ]
    }
   ],
   "source": [
    "#copiers[\"n_copiers\"].unique\n",
    "sse_reduced = copier_sse\n",
    "sse_full = 0\n",
    "for j in copiers[\"n_copiers\"].unique():\n",
    "    \n",
    "    y_bar_j = np.mean(copiers[copiers[\"n_copiers\"] == j][\"time\"])\n",
    "    sse_full += sum((copiers[copiers[\"n_copiers\"] == j][\"time\"] - y_bar_j)**2)\n",
    "    \n",
    "print(f\"SSE(R):  {sse_reduced}\")\n",
    "print(f\"SSE(F):  {sse_full}\")"
   ]
  },
  {
   "cell_type": "code",
   "execution_count": 269,
   "id": "0517c4ac-8787-410e-ad1c-a3227140f049",
   "metadata": {
    "tags": []
   },
   "outputs": [
    {
     "name": "stdout",
     "output_type": "stream",
     "text": [
      "Lack of fit F*:  0.9675571306265506\n",
      "Critical value:  2.216675032675201\n"
     ]
    }
   ],
   "source": [
    "c = copiers[\"n_copiers\"].nunique()\n",
    "f_lof = ((sse_reduced - sse_full)/(c - 2)) / (sse_full/(45 - c))\n",
    "print(f\"Lack of fit F*:  {f_lof}\")\n",
    "print(f\"Critical value:  {f.ppf(1 - 0.05, c - 2, 45 - c)}\")"
   ]
  },
  {
   "cell_type": "markdown",
   "id": "06cbccb9-50ea-47ac-af1b-f6e2e1af5f5f",
   "metadata": {},
   "source": [
    "### Simultaneous Inferences on Regression Parameters\n",
    "\n",
    "Suppose we want simulataneous inferences on confidence intervals for $\\beta_0$ and $\\beta_1$.  To get 2 simultaneous 95% confidence intervals, we make a Bonferroni adjustment to the level of significance.  Instead of using $\\alpha = 0.05$, we divide this by 2 to get $\\alpha^* = 0.05/2 = 0.0025$ and use this in our interval constructions:"
   ]
  },
  {
   "cell_type": "code",
   "execution_count": 270,
   "id": "504fb3f3-5f57-48e8-9c94-fa3946ed8aeb",
   "metadata": {
    "tags": []
   },
   "outputs": [
    {
     "name": "stdout",
     "output_type": "stream",
     "text": [
      "Joint CI for B0: [-7.0926420194444, 5.932328703517515]\n",
      "Joint CI for B1: [[13.91322076], [16.15727532]]\n"
     ]
    }
   ],
   "source": [
    "a_star = 0.05 / 2\n",
    "\n",
    "s2_b0 = copier_mse / 45 + copier_mse * (np.mean(copiers[\"n_copiers\"])**2 / sum(copiers[\"x-x_bar_sq\"]))\n",
    "s_b0 = np.sqrt(s2_b0)\n",
    "\n",
    "lower_b0 = b_0 - t.ppf(1-a_star/2, 43) * s_b0\n",
    "upper_b0 = b_0 + t.ppf(1-a_star/2, 43) * s_b0\n",
    "\n",
    "lower_b1 = b_1 - t.ppf(1-a_star/2, 43) * s_b1\n",
    "upper_b1 = b_1 + t.ppf(1-a_star/2, 43) * s_b1\n",
    "\n",
    "print(f\"Joint CI for B0: [{lower_b0}, {upper_b0}]\")\n",
    "print(f\"Joint CI for B1: [{lower_b1}, {upper_b1}]\")"
   ]
  },
  {
   "cell_type": "markdown",
   "id": "dd96eeb5-d8c3-43bb-9b81-c32e1466cd40",
   "metadata": {},
   "source": [
    "### No Intercept Model\n",
    "\n",
    "Here we will fit a regression model assuming no intercept, $\\beta_0$.  In many cases, having an intercept in the model doesn't make sense.  For example, if the range of the predictor allows for values less than zero, the intercept might be calculated to be negative or positive when it doesn't make sense for that particular scenario.  We will see if a no intercept model makes more sense for predicting service time from the number of copiers on a call."
   ]
  },
  {
   "cell_type": "code",
   "execution_count": 271,
   "id": "3fdff399-a951-4539-9a7c-5e007527f55d",
   "metadata": {
    "tags": []
   },
   "outputs": [
    {
     "name": "stdout",
     "output_type": "stream",
     "text": [
      "No intercept coefficients: b0 = 0.0,  b1=[14.94722955]\n"
     ]
    }
   ],
   "source": [
    "copier_reg_noint = LinearRegression(fit_intercept=False)\n",
    "copier_reg_noint.fit(copiers[[\"n_copiers\"]], copiers[\"time\"])\n",
    "print(f\"No intercept coefficients: b0 = {copier_reg_noint.intercept_},  b1={copier_reg_noint.coef_}\")"
   ]
  },
  {
   "cell_type": "markdown",
   "id": "8dd3e71b-823c-44c8-92f8-d8e079d11389",
   "metadata": {},
   "source": [
    "Our new model is $Y_i = 14.9472X_i$.  We can see $\\beta_1$ has changed quite a bit.  Now, let's calculate a 90% confidence interval for $\\beta_1$."
   ]
  },
  {
   "cell_type": "code",
   "execution_count": 272,
   "id": "028939ce-c0dd-49d9-88af-3f23bb4a5b1d",
   "metadata": {
    "tags": []
   },
   "outputs": [
    {
     "name": "stdout",
     "output_type": "stream",
     "text": [
      "se(b1): 0.2264243039099752\n",
      "90% CI for B1: [[14.56678465], [15.32767445]]\n"
     ]
    }
   ],
   "source": [
    "def f_noint(x_i):\n",
    "    return 14.94722955 * x_i\n",
    "\n",
    "resids_noint = copiers[\"time\"] - f_noint(copiers[\"n_copiers\"])\n",
    "resids_sq_noint = pow(resids_noint, 2)\n",
    "\n",
    "mse_noint = sum(resids_sq_noint) / 44\n",
    "\n",
    "se2_b1_noint = mse_noint / sum(pow(copiers[\"n_copiers\"], 2))\n",
    "se_b1_noint = np.sqrt(se2_b1_noint)\n",
    "\n",
    "b1_noint = copier_reg_noint.coef_\n",
    "\n",
    "lower_ci_b1_noint = b1_noint - t.ppf(1-0.1/2, 44) * se_b1_noint\n",
    "upper_ci_b1_noint = b1_noint + t.ppf(1-0.1/2, 44) * se_b1_noint\n",
    "\n",
    "print(f\"se(b1): {se_b1_noint}\")\n",
    "print(f\"90% CI for B1: [{lower_ci_b1_noint}, {upper_ci_b1_noint}]\")"
   ]
  },
  {
   "cell_type": "markdown",
   "id": "b512510f-7eba-4d4e-8365-ed5dfd3d6f8a",
   "metadata": {},
   "source": [
    "In our no intercept model, we are 90% confident that the mean service time for a call increases by between 14.567 and 15.327 minutes per additional copier.  Suppose we want to predict the service time for a new call with 6 copiers. We calculate the following:"
   ]
  },
  {
   "cell_type": "code",
   "execution_count": 273,
   "id": "a3045014-a554-463b-b3b5-c98adeccf341",
   "metadata": {
    "tags": []
   },
   "outputs": [
    {
     "name": "stdout",
     "output_type": "stream",
     "text": [
      "90% Prediction interval for new call of 6 copiers: [74.695586312256, 104.67116828774398]\n"
     ]
    }
   ],
   "source": [
    "se2_yhnew_6 = mse_noint * (1 + pow(6,2) / sum(pow(copiers[\"n_copiers\"], 2)))\n",
    "se_yhnew_6 = np.sqrt(se2_yhnew_6)\n",
    "\n",
    "lower_pi_yhnew_6 = f_noint(6) - t.ppf(1 - 0.1/2, 44) * se_yhnew_6\n",
    "upper_pi_yhnew_6 = f_noint(6) + t.ppf(1 - 0.1/2, 44) * se_yhnew_6\n",
    "\n",
    "print(f\"90% Prediction interval for new call of 6 copiers: [{lower_pi_yhnew_6}, {upper_pi_yhnew_6}]\")"
   ]
  },
  {
   "cell_type": "markdown",
   "id": "2fc4166a-8654-485b-9973-8a394ee97d89",
   "metadata": {},
   "source": [
    "We predict with 90% confidence that the service time for a call concerning 6 copiers will be between 74.686 and 104.671 minutes.\n",
    "\n",
    "Let's now take a look at the plot of this regression through the origin."
   ]
  },
  {
   "cell_type": "code",
   "execution_count": 274,
   "id": "e04e114d-9fc0-452a-8cd2-a40d78f9b249",
   "metadata": {
    "tags": []
   },
   "outputs": [
    {
     "data": {
      "image/png": "[encoded data removed]",
      "text/plain": [
       "<Figure size 500x500 with 1 Axes>"
      ]
     },
     "metadata": {},
     "output_type": "display_data"
    }
   ],
   "source": [
    "lin_x = np.linspace(0, 10, 100)\n",
    "lin_y = b1_noint*lin_x\n",
    "\n",
    "grid_noint = sns.FacetGrid(data=copiers, height=5)\n",
    "grid_noint = grid_noint.map(plt.scatter, data=copiers, x=\"n_copiers\", y=\"time\", edgecolor='w')\n",
    "plt.plot(lin_x, lin_y, color='orange')\n",
    "plt.title(\"Regression (Through Origin) for Mean Service Time\")\n",
    "plt.ylabel(\"Service Time (minutes)\")\n",
    "plt.xlabel(\"Number of Copiers on Job\")\n",
    "plt.show()"
   ]
  },
  {
   "cell_type": "markdown",
   "id": "10247899-39be-4ab1-8669-b874ce48b296",
   "metadata": {},
   "source": [
    "We can see the no intercept model also appears to fit the data well.  If we take a look at the residuals for this model, we'll notice they won't sum to 0.  This is because this is not the model that minimizes the method of least squares."
   ]
  },
  {
   "cell_type": "code",
   "execution_count": 275,
   "id": "0ed9ea5b-eac4-4b25-9fdc-89ce8b339b2b",
   "metadata": {
    "tags": []
   },
   "outputs": [
    {
     "name": "stdout",
     "output_type": "stream",
     "text": [
      "Sum of residuals:  -5.8627964999998845\n"
     ]
    }
   ],
   "source": [
    "zero_reg_df = pd.DataFrame()\n",
    "zero_reg_df[\"n_copiers\"] = copiers[\"n_copiers\"]\n",
    "zero_reg_df[\"time\"] = copiers[\"time\"]\n",
    "zero_reg_df[\"residual\"] = zero_reg_df[\"time\"] - f_noint(zero_reg_df[\"n_copiers\"])\n",
    "\n",
    "print(f\"Sum of residuals:  {sum(zero_reg_df['residual'])}\")"
   ]
  },
  {
   "cell_type": "markdown",
   "id": "185e8b33-131f-4fe0-a80f-797aff3a4bb0",
   "metadata": {
    "tags": []
   },
   "source": [
    "Next, let's plot the residuals against our predicted values:"
   ]
  },
  {
   "cell_type": "code",
   "execution_count": 276,
   "id": "bd1c6022-749b-467e-bc75-45a44367e682",
   "metadata": {
    "tags": []
   },
   "outputs": [
    {
     "data": {
      "image/png": "[encoded data removed]",
      "text/plain": [
       "<Figure size 500x500 with 1 Axes>"
      ]
     },
     "metadata": {},
     "output_type": "display_data"
    }
   ],
   "source": [
    "zero_reg_df[\"predicted\"] = f_noint(zero_reg_df[\"n_copiers\"])\n",
    "\n",
    "lin_x = np.linspace(-1, np.max(zero_reg_df[\"time\"]) + 2, 100)\n",
    "lin_y = 0*lin_x\n",
    "\n",
    "grid_noint = sns.FacetGrid(data=copiers, height=5)\n",
    "grid_noint = grid_noint.map(plt.scatter, data=zero_reg_df, x=\"predicted\", y=\"residual\", edgecolor='w')\n",
    "plt.plot(lin_x, lin_y, color='black')\n",
    "plt.title(\"Residuals vs. Predicted (No Intercept)\")\n",
    "plt.ylabel(\"Residual\")\n",
    "plt.xlabel(\"Predicted Value\")\n",
    "plt.show()"
   ]
  },
  {
   "cell_type": "markdown",
   "id": "1d2d33d7-d7a5-4ba5-abfe-f411fc34a7eb",
   "metadata": {},
   "source": [
    "From this plot, we see larger variance in service times when the predicted value in the higher portion of the range.  The residual almost suggest a quadratic model.  We shall conduct a lack of fit test.  "
   ]
  },
  {
   "cell_type": "code",
   "execution_count": 282,
   "id": "7a55b05f-a3cd-4204-b3bb-8e2f6a03edc4",
   "metadata": {
    "tags": []
   },
   "outputs": [
    {
     "name": "stdout",
     "output_type": "stream",
     "text": [
      "SSE(R):  3419.7783641160954\n",
      "SSE(F):  2797.6583333333333\n",
      "Lack of fit F*:  0.8647788210734444\n",
      "p-value       :  0.5644335952447055\n",
      "Critical value:  2.1608292507665317\n"
     ]
    }
   ],
   "source": [
    "sse_reduced_noint = sum(zero_reg_df['residual']**2)\n",
    "sse_full_noint = 0\n",
    "for j in zero_reg_df[\"n_copiers\"].unique():\n",
    "    \n",
    "    y_bar_j = np.mean(zero_reg_df[zero_reg_df[\"n_copiers\"] == j][\"time\"])\n",
    "    sse_full_noint += sum((zero_reg_df[zero_reg_df[\"n_copiers\"] == j][\"time\"] - y_bar_j)**2)\n",
    "    \n",
    "print(f\"SSE(R):  {sse_reduced_noint}\")\n",
    "print(f\"SSE(F):  {sse_full_noint}\")\n",
    "\n",
    "c = zero_reg_df[\"n_copiers\"].nunique()\n",
    "f_lof_noint = ((sse_reduced_noint - sse_full_noint)/(c - 1)) / (sse_full_noint/(45 - c))\n",
    "print(f\"Lack of fit F*:  {f_lof_noint}\")\n",
    "print(f\"p-value       :  {1 - f.cdf(f_lof_noint, c-1, 45-c)}\")\n",
    "print(f\"Critical value:  {f.ppf(1 - 0.05, c - 1, 45 - c)}\")"
   ]
  },
  {
   "cell_type": "markdown",
   "id": "05899012-3272-4169-b981-f8b9412b0f69",
   "metadata": {},
   "source": [
    "With our $F$-statistic and critical value, we would conclude that the model fits the data adequately.  However, the $p$-value here suggests this is a weak conclusion in this instance."
   ]
  },
  {
   "cell_type": "markdown",
   "id": "be5018c9-e618-40e6-bfa5-79bb958e1f58",
   "metadata": {},
   "source": [
    "Suppose we want to estimate the expected number of service minutes when the number of copiers is 3, 5, or 7.  We do that as follows:"
   ]
  },
  {
   "cell_type": "code",
   "execution_count": 290,
   "id": "838792cd-e762-4976-b52a-91e4223e0a4f",
   "metadata": {
    "tags": []
   },
   "outputs": [
    {
     "name": "stdout",
     "output_type": "stream",
     "text": [
      "F:  2.430407155251737\n",
      "W:  2.204725450141916\n",
      "Estimate for X_h=3 :  44.525587467362925 w/ [40.83264591916755, 48.2185290155583]\n",
      "Estimate for X_h=5 :  74.59608355091385 w/ [71.66417114835387, 77.52799595347382]\n",
      "Estimate for X_h=7 :  104.66657963446475 w/ [101.11278224435272, 108.22037702457679]\n"
     ]
    }
   ],
   "source": [
    "def s2_Y_h(x_h):\n",
    "    return copier_mse * (1/45 + (pow(x_h - np.mean(copiers[\"n_copiers\"]),2)/sum(copiers[\"x-x_bar_sq\"])))\n",
    "\n",
    "w = np.sqrt(2 * f.ppf(1-0.1, 2, 43))\n",
    "print(f\"F:  {f.ppf(1-0.1, 2, 43)}\")\n",
    "print(f\"W:  {w}\")\n",
    "\n",
    "y_3 = b_0 + b_1*3\n",
    "y_5 = b_0 + b_1*5\n",
    "y_7 = b_0 + b_1*7\n",
    "\n",
    "lower_3 = y_3 - w * np.sqrt(s2_Y_h(3))\n",
    "upper_3 = y_3 + w * np.sqrt(s2_Y_h(3))\n",
    "\n",
    "lower_5 = y_5 - w * np.sqrt(s2_Y_h(5))\n",
    "upper_5 = y_5 + w * np.sqrt(s2_Y_h(5))\n",
    "\n",
    "lower_7 = y_7 - w * np.sqrt(s2_Y_h(7))\n",
    "upper_7 = y_7 + w * np.sqrt(s2_Y_h(7))\n",
    "\n",
    "print(f\"Estimate for X_h=3 :  {y_3[0]} w/ [{lower_3[0]}, {upper_3[0]}]\")\n",
    "print(f\"Estimate for X_h=5 :  {y_5[0]} w/ [{lower_5[0]}, {upper_5[0]}]\")\n",
    "print(f\"Estimate for X_h=7 :  {y_7[0]} w/ [{lower_7[0]}, {upper_7[0]}]\")"
   ]
  },
  {
   "cell_type": "code",
   "execution_count": 291,
   "id": "d18a1229-82b8-442c-9a54-a6f76e18952a",
   "metadata": {
    "tags": []
   },
   "outputs": [
    {
     "data": {
      "text/plain": [
       "0.9486832980505138"
      ]
     },
     "execution_count": 291,
     "metadata": {},
     "output_type": "execute_result"
    }
   ],
   "source": [
    "np.sqrt(0.9)"
   ]
  },
  {
   "cell_type": "code",
   "execution_count": 292,
   "id": "3ee278f5-b177-4100-baaf-09e7f84d5529",
   "metadata": {
    "tags": []
   },
   "outputs": [
    {
     "name": "stdout",
     "output_type": "stream",
     "text": [
      "S: 2.204725450141916\n",
      "t: 2.018081697095881\n"
     ]
    }
   ],
   "source": [
    "def s2_pred(x_h):\n",
    "    return copier_mse + s2_Y_h(x_h)\n",
    "\n",
    "y_4 = b_0 + b_1*4\n",
    "y_7 = b_0 + b_1*7\n",
    "\n",
    "g = 2  # Number of simultaneuous inferences\n",
    "\n",
    "schaffe_s = np.sqrt(g * f.ppf(1-0.1, g, 45 - 2))\n",
    "bonferroni_t = t.ppf(1 - 0.1/(2*g), 45-3)\n",
    "\n",
    "print(f\"S: {schaffe_s}\")\n",
    "print(f\"t: {bonferroni_t}\")"
   ]
  },
  {
   "cell_type": "code",
   "execution_count": 293,
   "id": "55cd0723-cf9e-47df-9039-47cf6558113f",
   "metadata": {
    "tags": []
   },
   "outputs": [
    {
     "name": "stdout",
     "output_type": "stream",
     "text": [
      "PI for X_h=4:  [41.341646578747586, 77.78002443952919]\n",
      "PI for X_h=7:  [86.38663000760333, 122.94652926132618]\n"
     ]
    }
   ],
   "source": [
    "lower_pi_4 = y_4 - bonferroni_t * np.sqrt(s2_pred(4))\n",
    "upper_pi_4 = y_4 + bonferroni_t * np.sqrt(s2_pred(4))\n",
    "\n",
    "lower_pi_7 = y_7 - bonferroni_t * np.sqrt(s2_pred(7))\n",
    "upper_pi_7 = y_7 + bonferroni_t * np.sqrt(s2_pred(7))\n",
    "\n",
    "print(f\"PI for X_h=4:  [{lower_pi_4[0]}, {upper_pi_4[0]}]\")\n",
    "print(f\"PI for X_h=7:  [{lower_pi_7[0]}, {upper_pi_7[0]}]\")"
   ]
  }
 ],
 "metadata": {
  "kernelspec": {
   "display_name": "Python 3 (ipykernel)",
   "language": "python",
   "name": "python3"
  },
  "language_info": {
   "codemirror_mode": {
    "name": "ipython",
    "version": 3
   },
   "file_extension": ".py",
   "mimetype": "text/x-python",
   "name": "python",
   "nbconvert_exporter": "python",
   "pygments_lexer": "ipython3",
   "version": "3.9.17"
  }
 },
 "nbformat": 4,
 "nbformat_minor": 5
}
